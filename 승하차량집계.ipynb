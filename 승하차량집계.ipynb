{
 "cells": [
  {
   "attachments": {},
   "cell_type": "markdown",
   "metadata": {},
   "source": [
    "- 입력 : 광진구를 지나는 모든 버스의 노선별 승차 승객수\n",
    "- 출력 : 광진구 내 버스 정류장별 승차 승객수"
   ]
  },
  {
   "cell_type": "code",
   "execution_count": 1,
   "metadata": {},
   "outputs": [],
   "source": [
    "import pandas as pd\n",
    "import numpy as np"
   ]
  },
  {
   "cell_type": "code",
   "execution_count": 2,
   "metadata": {},
   "outputs": [],
   "source": [
    "data = pd.read_csv('./data/gwangjin_boarding.csv', encoding='cp949')"
   ]
  },
  {
   "attachments": {},
   "cell_type": "markdown",
   "metadata": {},
   "source": [
    "## 1. 시간대별로 나누기"
   ]
  },
  {
   "cell_type": "code",
   "execution_count": 19,
   "metadata": {},
   "outputs": [],
   "source": [
    "# 출근시간 7 ~ 9\n",
    "# 낮 시간 10 ~ 17\n",
    "# 퇴근시간 18 ~ 20\n",
    "# 밤시간 21 ~ 2\n",
    "\n",
    "morning_cols = ['6시승차총승객수', '7시승차총승객수', '8시승차총승객수','9시승차총승객수']\n",
    "afternoon_cols = ['10시승차총승객수', '11시승차총승객수', '12시승차총승객수', '13시승차총승객수', '14시승차총승객수', '15시승차총승객수', '16시승차총승객수', '17시승차총승객수']\n",
    "evening_cols = ['18시승차총승객수', '19시승차총승객수', '20시승차총승객수', '21시승차총승객수']\n",
    "night_cols = ['22시승차총승객수', '23시승차총승객수', '00시승차총승객수', '1시승차총승객수', '2시승차총승객수', '3시승차총승객수', '4시승차총승객수', '5시승차총승객수']"
   ]
  },
  {
   "cell_type": "code",
   "execution_count": 27,
   "metadata": {},
   "outputs": [],
   "source": [
    "# 집계\n",
    "data['출근시간대총승객수'] = data[morning_cols].sum(axis=1)\n",
    "data['낮시간대총승객수'] = data[afternoon_cols].sum(axis=1)\n",
    "data['퇴근시간대총승객수'] = data[evening_cols].sum(axis=1)\n",
    "data['밤시간대총승객수'] = data[night_cols].sum(axis=1)"
   ]
  },
  {
   "cell_type": "code",
   "execution_count": 28,
   "metadata": {},
   "outputs": [
    {
     "data": {
      "text/html": [
       "<div>\n",
       "<style scoped>\n",
       "    .dataframe tbody tr th:only-of-type {\n",
       "        vertical-align: middle;\n",
       "    }\n",
       "\n",
       "    .dataframe tbody tr th {\n",
       "        vertical-align: top;\n",
       "    }\n",
       "\n",
       "    .dataframe thead th {\n",
       "        text-align: right;\n",
       "    }\n",
       "</style>\n",
       "<table border=\"1\" class=\"dataframe\">\n",
       "  <thead>\n",
       "    <tr style=\"text-align: right;\">\n",
       "      <th></th>\n",
       "      <th>사용년월</th>\n",
       "      <th>표준버스정류장ID</th>\n",
       "      <th>버스정류장ARS번호</th>\n",
       "      <th>00시승차총승객수</th>\n",
       "      <th>1시승차총승객수</th>\n",
       "      <th>2시승차총승객수</th>\n",
       "      <th>3시승차총승객수</th>\n",
       "      <th>4시승차총승객수</th>\n",
       "      <th>5시승차총승객수</th>\n",
       "      <th>6시승차총승객수</th>\n",
       "      <th>...</th>\n",
       "      <th>위도</th>\n",
       "      <th>경도</th>\n",
       "      <th>버스도착정보안내기_설치_여부</th>\n",
       "      <th>구이름</th>\n",
       "      <th>행정동</th>\n",
       "      <th>일일총승객수</th>\n",
       "      <th>출근시간대총승객수</th>\n",
       "      <th>낮시간대총승객수</th>\n",
       "      <th>퇴근시간대총승객수</th>\n",
       "      <th>밤시간대총승객수</th>\n",
       "    </tr>\n",
       "  </thead>\n",
       "  <tbody>\n",
       "    <tr>\n",
       "      <th>0</th>\n",
       "      <td>202101</td>\n",
       "      <td>104000001</td>\n",
       "      <td>5001</td>\n",
       "      <td>84</td>\n",
       "      <td>0</td>\n",
       "      <td>0</td>\n",
       "      <td>0</td>\n",
       "      <td>0</td>\n",
       "      <td>36</td>\n",
       "      <td>206</td>\n",
       "      <td>...</td>\n",
       "      <td>127.075646</td>\n",
       "      <td>37.558741</td>\n",
       "      <td>설치</td>\n",
       "      <td>광진구</td>\n",
       "      <td>중곡1동</td>\n",
       "      <td>8564</td>\n",
       "      <td>2002</td>\n",
       "      <td>3720</td>\n",
       "      <td>2230</td>\n",
       "      <td>612</td>\n",
       "    </tr>\n",
       "    <tr>\n",
       "      <th>1</th>\n",
       "      <td>202101</td>\n",
       "      <td>104000001</td>\n",
       "      <td>5001</td>\n",
       "      <td>39</td>\n",
       "      <td>59</td>\n",
       "      <td>42</td>\n",
       "      <td>34</td>\n",
       "      <td>133</td>\n",
       "      <td>0</td>\n",
       "      <td>0</td>\n",
       "      <td>...</td>\n",
       "      <td>127.075646</td>\n",
       "      <td>37.558741</td>\n",
       "      <td>설치</td>\n",
       "      <td>광진구</td>\n",
       "      <td>중곡1동</td>\n",
       "      <td>316</td>\n",
       "      <td>0</td>\n",
       "      <td>0</td>\n",
       "      <td>0</td>\n",
       "      <td>316</td>\n",
       "    </tr>\n",
       "    <tr>\n",
       "      <th>2</th>\n",
       "      <td>202101</td>\n",
       "      <td>104000001</td>\n",
       "      <td>5001</td>\n",
       "      <td>0</td>\n",
       "      <td>0</td>\n",
       "      <td>0</td>\n",
       "      <td>0</td>\n",
       "      <td>27</td>\n",
       "      <td>81</td>\n",
       "      <td>87</td>\n",
       "      <td>...</td>\n",
       "      <td>127.075646</td>\n",
       "      <td>37.558741</td>\n",
       "      <td>설치</td>\n",
       "      <td>광진구</td>\n",
       "      <td>중곡1동</td>\n",
       "      <td>3633</td>\n",
       "      <td>815</td>\n",
       "      <td>1677</td>\n",
       "      <td>943</td>\n",
       "      <td>198</td>\n",
       "    </tr>\n",
       "    <tr>\n",
       "      <th>3</th>\n",
       "      <td>202101</td>\n",
       "      <td>104000001</td>\n",
       "      <td>5001</td>\n",
       "      <td>0</td>\n",
       "      <td>0</td>\n",
       "      <td>0</td>\n",
       "      <td>0</td>\n",
       "      <td>0</td>\n",
       "      <td>75</td>\n",
       "      <td>72</td>\n",
       "      <td>...</td>\n",
       "      <td>127.075646</td>\n",
       "      <td>37.558741</td>\n",
       "      <td>설치</td>\n",
       "      <td>광진구</td>\n",
       "      <td>중곡1동</td>\n",
       "      <td>3310</td>\n",
       "      <td>831</td>\n",
       "      <td>1342</td>\n",
       "      <td>993</td>\n",
       "      <td>144</td>\n",
       "    </tr>\n",
       "    <tr>\n",
       "      <th>4</th>\n",
       "      <td>202101</td>\n",
       "      <td>104000001</td>\n",
       "      <td>5001</td>\n",
       "      <td>0</td>\n",
       "      <td>0</td>\n",
       "      <td>0</td>\n",
       "      <td>0</td>\n",
       "      <td>409</td>\n",
       "      <td>503</td>\n",
       "      <td>205</td>\n",
       "      <td>...</td>\n",
       "      <td>127.075646</td>\n",
       "      <td>37.558741</td>\n",
       "      <td>설치</td>\n",
       "      <td>광진구</td>\n",
       "      <td>중곡1동</td>\n",
       "      <td>7291</td>\n",
       "      <td>1921</td>\n",
       "      <td>3201</td>\n",
       "      <td>1051</td>\n",
       "      <td>1118</td>\n",
       "    </tr>\n",
       "  </tbody>\n",
       "</table>\n",
       "<p>5 rows × 37 columns</p>\n",
       "</div>"
      ],
      "text/plain": [
       "     사용년월  표준버스정류장ID  버스정류장ARS번호  00시승차총승객수  1시승차총승객수  2시승차총승객수  3시승차총승객수  \\\n",
       "0  202101  104000001        5001         84         0         0         0   \n",
       "1  202101  104000001        5001         39        59        42        34   \n",
       "2  202101  104000001        5001          0         0         0         0   \n",
       "3  202101  104000001        5001          0         0         0         0   \n",
       "4  202101  104000001        5001          0         0         0         0   \n",
       "\n",
       "   4시승차총승객수  5시승차총승객수  6시승차총승객수  ...          위도         경도  버스도착정보안내기_설치_여부  \\\n",
       "0         0        36       206  ...  127.075646  37.558741            설치      \n",
       "1       133         0         0  ...  127.075646  37.558741            설치      \n",
       "2        27        81        87  ...  127.075646  37.558741            설치      \n",
       "3         0        75        72  ...  127.075646  37.558741            설치      \n",
       "4       409       503       205  ...  127.075646  37.558741            설치      \n",
       "\n",
       "   구이름   행정동  일일총승객수  출근시간대총승객수  낮시간대총승객수  퇴근시간대총승객수  밤시간대총승객수  \n",
       "0  광진구  중곡1동    8564       2002      3720       2230       612  \n",
       "1  광진구  중곡1동     316          0         0          0       316  \n",
       "2  광진구  중곡1동    3633        815      1677        943       198  \n",
       "3  광진구  중곡1동    3310        831      1342        993       144  \n",
       "4  광진구  중곡1동    7291       1921      3201       1051      1118  \n",
       "\n",
       "[5 rows x 37 columns]"
      ]
     },
     "execution_count": 28,
     "metadata": {},
     "output_type": "execute_result"
    }
   ],
   "source": [
    "# 결과 확인\n",
    "data.head()"
   ]
  },
  {
   "cell_type": "code",
   "execution_count": 31,
   "metadata": {},
   "outputs": [],
   "source": [
    "data_sum = data.drop(morning_cols + afternoon_cols + evening_cols + night_cols, axis=1)"
   ]
  },
  {
   "attachments": {},
   "cell_type": "markdown",
   "metadata": {},
   "source": [
    "## 2. 정류장 별로 합치기\n",
    "\n",
    "- 현재 승차데이터는 정류장 별이 아니라 버스 별이기 때문에 정류장 별 승차량을 구할 수 있도록 집계"
   ]
  },
  {
   "attachments": {},
   "cell_type": "markdown",
   "metadata": {},
   "source": [
    "### 1. 합계 구하기"
   ]
  },
  {
   "cell_type": "code",
   "execution_count": 51,
   "metadata": {},
   "outputs": [],
   "source": [
    "cols = ['출근시간대총승객수', '낮시간대총승객수', '퇴근시간대총승객수', '밤시간대총승객수', '일일총승객수']\n",
    "data_merge = data_sum.groupby(by=['사용년월', '표준버스정류장ID'], axis=0, as_index=False)[cols].sum()"
   ]
  },
  {
   "cell_type": "code",
   "execution_count": 52,
   "metadata": {},
   "outputs": [],
   "source": [
    "# 열이 중복으로 들어가는 것 방지\n",
    "on_cols = ['사용년월', '표준버스정류장ID']\n",
    "cols_to_use = data_sum.columns.difference(data_merge.drop(on_cols, axis=1).columns)"
   ]
  },
  {
   "cell_type": "code",
   "execution_count": 53,
   "metadata": {},
   "outputs": [],
   "source": [
    "data_merge = data_merge.merge(data_sum[cols_to_use], how='inner', on=on_cols, )"
   ]
  },
  {
   "cell_type": "code",
   "execution_count": 54,
   "metadata": {},
   "outputs": [],
   "source": [
    "data_merge = data_merge.drop_duplicates(subset=on_cols, keep='first', ignore_index=True)"
   ]
  },
  {
   "cell_type": "code",
   "execution_count": 57,
   "metadata": {},
   "outputs": [],
   "source": [
    "data_merge.to_csv('./data/gwangjin_borading_sum.csv', encoding='utf-8', index=False)"
   ]
  }
 ],
 "metadata": {
  "kernelspec": {
   "display_name": "aivle",
   "language": "python",
   "name": "python3"
  },
  "language_info": {
   "codemirror_mode": {
    "name": "ipython",
    "version": 3
   },
   "file_extension": ".py",
   "mimetype": "text/x-python",
   "name": "python",
   "nbconvert_exporter": "python",
   "pygments_lexer": "ipython3",
   "version": "3.9.13"
  },
  "orig_nbformat": 4
 },
 "nbformat": 4,
 "nbformat_minor": 2
}

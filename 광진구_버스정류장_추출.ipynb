{
 "cells": [
  {
   "attachments": {},
   "cell_type": "markdown",
   "metadata": {},
   "source": [
    "- 입력 : 서울시 공공데이터에서 제공되는 서울시 전체 버스정류장의 위도·경도 좌표 데이터\n",
    "- 출력 : 서울시 광진구의 버스정류장 데이터 (버스정류장 ID, 위도·경도, 행정동)"
   ]
  },
  {
   "cell_type": "code",
   "execution_count": 1,
   "metadata": {},
   "outputs": [],
   "source": [
    "import requests\n",
    "import pandas as pd\n",
    "import numpy as np\n",
    "import matplotlib.pyplot as plt\n",
    "import seaborn as sns"
   ]
  },
  {
   "cell_type": "code",
   "execution_count": 3,
   "metadata": {},
   "outputs": [
    {
     "name": "stderr",
     "output_type": "stream",
     "text": [
      "C:\\Users\\cjkang\\AppData\\Local\\Temp\\ipykernel_18680\\1783597532.py:2: DtypeWarning: Columns (4) have mixed types. Specify dtype option on import or set low_memory=False.\n",
      "  boarding = pd.read_csv('./data/2021_boarding_timely.csv', encoding='cp949')\n"
     ]
    }
   ],
   "source": [
    "# 데이터 불러오기\n",
    "station = pd.read_csv('./data/seoul_bus_station.csv', encoding='cp949')\n",
    "boarding = pd.read_csv('./data/2021_boarding_timely.csv', encoding='cp949')"
   ]
  },
  {
   "cell_type": "code",
   "execution_count": 10,
   "metadata": {},
   "outputs": [
    {
     "data": {
      "text/html": [
       "<div>\n",
       "<style scoped>\n",
       "    .dataframe tbody tr th:only-of-type {\n",
       "        vertical-align: middle;\n",
       "    }\n",
       "\n",
       "    .dataframe tbody tr th {\n",
       "        vertical-align: top;\n",
       "    }\n",
       "\n",
       "    .dataframe thead th {\n",
       "        text-align: right;\n",
       "    }\n",
       "</style>\n",
       "<table border=\"1\" class=\"dataframe\">\n",
       "  <thead>\n",
       "    <tr style=\"text-align: right;\">\n",
       "      <th></th>\n",
       "      <th>정류장_ID</th>\n",
       "      <th>위도</th>\n",
       "      <th>경도</th>\n",
       "      <th>버스도착정보안내기_설치_여부</th>\n",
       "    </tr>\n",
       "  </thead>\n",
       "  <tbody>\n",
       "    <tr>\n",
       "      <th>0</th>\n",
       "      <td>717104358</td>\n",
       "      <td>126.817473</td>\n",
       "      <td>37.452473</td>\n",
       "      <td>미설치</td>\n",
       "    </tr>\n",
       "    <tr>\n",
       "      <th>1</th>\n",
       "      <td>500000288</td>\n",
       "      <td>126.691556</td>\n",
       "      <td>37.321742</td>\n",
       "      <td>미설치</td>\n",
       "    </tr>\n",
       "    <tr>\n",
       "      <th>2</th>\n",
       "      <td>500000287</td>\n",
       "      <td>126.691728</td>\n",
       "      <td>37.321942</td>\n",
       "      <td>미설치</td>\n",
       "    </tr>\n",
       "    <tr>\n",
       "      <th>3</th>\n",
       "      <td>500000286</td>\n",
       "      <td>126.710485</td>\n",
       "      <td>37.319934</td>\n",
       "      <td>미설치</td>\n",
       "    </tr>\n",
       "    <tr>\n",
       "      <th>4</th>\n",
       "      <td>500000285</td>\n",
       "      <td>126.707130</td>\n",
       "      <td>37.320566</td>\n",
       "      <td>미설치</td>\n",
       "    </tr>\n",
       "  </tbody>\n",
       "</table>\n",
       "</div>"
      ],
      "text/plain": [
       "      정류장_ID          위도         경도 버스도착정보안내기_설치_여부\n",
       "0  717104358  126.817473  37.452473           미설치  \n",
       "1  500000288  126.691556  37.321742           미설치  \n",
       "2  500000287  126.691728  37.321942           미설치  \n",
       "3  500000286  126.710485  37.319934           미설치  \n",
       "4  500000285  126.707130  37.320566           미설치  "
      ]
     },
     "execution_count": 10,
     "metadata": {},
     "output_type": "execute_result"
    }
   ],
   "source": [
    "# 필요 없는 컬럼 제거\n",
    "drop_cols = ['정류장_명칭', '정류장_유형', '정류장_번호']\n",
    "station = station.drop(drop_cols, axis=1)\n",
    "\n",
    "station.head()"
   ]
  },
  {
   "cell_type": "code",
   "execution_count": 14,
   "metadata": {},
   "outputs": [
    {
     "data": {
      "text/html": [
       "<div>\n",
       "<style scoped>\n",
       "    .dataframe tbody tr th:only-of-type {\n",
       "        vertical-align: middle;\n",
       "    }\n",
       "\n",
       "    .dataframe tbody tr th {\n",
       "        vertical-align: top;\n",
       "    }\n",
       "\n",
       "    .dataframe thead th {\n",
       "        text-align: right;\n",
       "    }\n",
       "</style>\n",
       "<table border=\"1\" class=\"dataframe\">\n",
       "  <thead>\n",
       "    <tr style=\"text-align: right;\">\n",
       "      <th></th>\n",
       "      <th>정류장_ID</th>\n",
       "      <th>위도</th>\n",
       "      <th>경도</th>\n",
       "      <th>버스도착정보안내기_설치_여부</th>\n",
       "    </tr>\n",
       "  </thead>\n",
       "  <tbody>\n",
       "    <tr>\n",
       "      <th>70827</th>\n",
       "      <td>100000005</td>\n",
       "      <td>127.001744</td>\n",
       "      <td>37.586243</td>\n",
       "      <td>설치</td>\n",
       "    </tr>\n",
       "    <tr>\n",
       "      <th>70828</th>\n",
       "      <td>100000004</td>\n",
       "      <td>126.987613</td>\n",
       "      <td>37.568579</td>\n",
       "      <td>설치</td>\n",
       "    </tr>\n",
       "    <tr>\n",
       "      <th>70829</th>\n",
       "      <td>100000003</td>\n",
       "      <td>126.998340</td>\n",
       "      <td>37.582671</td>\n",
       "      <td>설치</td>\n",
       "    </tr>\n",
       "    <tr>\n",
       "      <th>70830</th>\n",
       "      <td>100000002</td>\n",
       "      <td>126.996566</td>\n",
       "      <td>37.579183</td>\n",
       "      <td>설치</td>\n",
       "    </tr>\n",
       "    <tr>\n",
       "      <th>70831</th>\n",
       "      <td>100000001</td>\n",
       "      <td>126.987750</td>\n",
       "      <td>37.569765</td>\n",
       "      <td>설치</td>\n",
       "    </tr>\n",
       "  </tbody>\n",
       "</table>\n",
       "</div>"
      ],
      "text/plain": [
       "          정류장_ID          위도         경도 버스도착정보안내기_설치_여부\n",
       "70827  100000005  127.001744  37.586243           설치   \n",
       "70828  100000004  126.987613  37.568579           설치   \n",
       "70829  100000003  126.998340  37.582671           설치   \n",
       "70830  100000002  126.996566  37.579183           설치   \n",
       "70831  100000001  126.987750  37.569765           설치   "
      ]
     },
     "execution_count": 14,
     "metadata": {},
     "output_type": "execute_result"
    }
   ],
   "source": [
    "# 결측치 제거\n",
    "station = station.dropna()\n",
    "station = station.reset_index(drop=True)\n",
    "station.tail()"
   ]
  },
  {
   "attachments": {},
   "cell_type": "markdown",
   "metadata": {},
   "source": [
    "## Kakao REST API"
   ]
  },
  {
   "attachments": {},
   "cell_type": "markdown",
   "metadata": {},
   "source": [
    "### 테스트"
   ]
  },
  {
   "cell_type": "code",
   "execution_count": 29,
   "metadata": {},
   "outputs": [],
   "source": [
    "# API 문서 : URL\n",
    "API_KEY = 'YOUR_KEY'\n",
    "latitude = station.loc[0, '위도']\n",
    "longitude = station.loc[0, '경도']\n",
    "url = f'https://dapi.kakao.com/v2/local/geo/coord2regioncode.json'\n",
    "headers = {\n",
    "    'Authorization' : f'KakaoAK {API_KEY}'\n",
    "}\n",
    "params = {\n",
    "    'x' : latitude,\n",
    "    'y' : longitude,\n",
    "    'input_coord' : 'WGS84'\n",
    "}"
   ]
  },
  {
   "cell_type": "code",
   "execution_count": 30,
   "metadata": {},
   "outputs": [
    {
     "data": {
      "text/plain": [
       "<Response [200]>"
      ]
     },
     "execution_count": 30,
     "metadata": {},
     "output_type": "execute_result"
    }
   ],
   "source": [
    "# request(url, key, coord) -> response : json(str)\n",
    "response = requests.get(url, params=params, headers=headers)\n",
    "response"
   ]
  },
  {
   "cell_type": "code",
   "execution_count": 35,
   "metadata": {},
   "outputs": [
    {
     "data": {
      "text/plain": [
       "{'region_type': 'H',\n",
       " 'code': '4139051000',\n",
       " 'address_name': '경기도 시흥시 대야동',\n",
       " 'region_1depth_name': '경기도',\n",
       " 'region_2depth_name': '시흥시',\n",
       " 'region_3depth_name': '대야동',\n",
       " 'region_4depth_name': '',\n",
       " 'x': 126.78853828587953,\n",
       " 'y': 37.44304606566207}"
      ]
     },
     "execution_count": 35,
     "metadata": {},
     "output_type": "execute_result"
    }
   ],
   "source": [
    "# json(str) -> dict -> hgd\n",
    "json = response.json()\n",
    "json['documents'][1]"
   ]
  },
  {
   "cell_type": "code",
   "execution_count": 58,
   "metadata": {},
   "outputs": [],
   "source": [
    "# 함수로 만들기\n",
    "\n",
    "def get_hgd(x, y):\n",
    "    API_KEY = 'YOUR_KEY'\n",
    "    URL = 'https://dapi.kakao.com/v2/local/geo/coord2regioncode.json'\n",
    "    \n",
    "    headers = {\n",
    "    'Authorization' : f'KakaoAK {API_KEY}'\n",
    "}\n",
    "    params = {\n",
    "        'x' : x,\n",
    "        'y' : y,\n",
    "        'input_coord' : 'WGS84'\n",
    "    }\n",
    "    \n",
    "    response = requests.get(URL, params=params, headers=headers)\n",
    "    json = response.json()\n",
    "    try: \n",
    "        result = (json['documents'][1]['region_2depth_name'], json['documents'][1]['region_3depth_name'])\n",
    "    except:\n",
    "        result = ('', '')\n",
    "    return result"
   ]
  },
  {
   "cell_type": "code",
   "execution_count": 47,
   "metadata": {},
   "outputs": [
    {
     "data": {
      "text/html": [
       "<div>\n",
       "<style scoped>\n",
       "    .dataframe tbody tr th:only-of-type {\n",
       "        vertical-align: middle;\n",
       "    }\n",
       "\n",
       "    .dataframe tbody tr th {\n",
       "        vertical-align: top;\n",
       "    }\n",
       "\n",
       "    .dataframe thead th {\n",
       "        text-align: right;\n",
       "    }\n",
       "</style>\n",
       "<table border=\"1\" class=\"dataframe\">\n",
       "  <thead>\n",
       "    <tr style=\"text-align: right;\">\n",
       "      <th></th>\n",
       "      <th>정류장_ID</th>\n",
       "      <th>위도</th>\n",
       "      <th>경도</th>\n",
       "      <th>버스도착정보안내기_설치_여부</th>\n",
       "      <th>구이름</th>\n",
       "      <th>행정동</th>\n",
       "    </tr>\n",
       "  </thead>\n",
       "  <tbody>\n",
       "    <tr>\n",
       "      <th>0</th>\n",
       "      <td>717104358</td>\n",
       "      <td>126.817473</td>\n",
       "      <td>37.452473</td>\n",
       "      <td>미설치</td>\n",
       "      <td></td>\n",
       "      <td></td>\n",
       "    </tr>\n",
       "    <tr>\n",
       "      <th>1</th>\n",
       "      <td>500000288</td>\n",
       "      <td>126.691556</td>\n",
       "      <td>37.321742</td>\n",
       "      <td>미설치</td>\n",
       "      <td></td>\n",
       "      <td></td>\n",
       "    </tr>\n",
       "    <tr>\n",
       "      <th>2</th>\n",
       "      <td>500000287</td>\n",
       "      <td>126.691728</td>\n",
       "      <td>37.321942</td>\n",
       "      <td>미설치</td>\n",
       "      <td></td>\n",
       "      <td></td>\n",
       "    </tr>\n",
       "    <tr>\n",
       "      <th>3</th>\n",
       "      <td>500000286</td>\n",
       "      <td>126.710485</td>\n",
       "      <td>37.319934</td>\n",
       "      <td>미설치</td>\n",
       "      <td></td>\n",
       "      <td></td>\n",
       "    </tr>\n",
       "    <tr>\n",
       "      <th>4</th>\n",
       "      <td>500000285</td>\n",
       "      <td>126.707130</td>\n",
       "      <td>37.320566</td>\n",
       "      <td>미설치</td>\n",
       "      <td></td>\n",
       "      <td></td>\n",
       "    </tr>\n",
       "  </tbody>\n",
       "</table>\n",
       "</div>"
      ],
      "text/plain": [
       "      정류장_ID          위도         경도 버스도착정보안내기_설치_여부 구이름 행정동\n",
       "0  717104358  126.817473  37.452473           미설치          \n",
       "1  500000288  126.691556  37.321742           미설치          \n",
       "2  500000287  126.691728  37.321942           미설치          \n",
       "3  500000286  126.710485  37.319934           미설치          \n",
       "4  500000285  126.707130  37.320566           미설치          "
      ]
     },
     "execution_count": 47,
     "metadata": {},
     "output_type": "execute_result"
    }
   ],
   "source": [
    "# 구 이름과 행정동 데이터가 들어갈 자리 마련\n",
    "station_hgd = station.copy()\n",
    "station_hgd['구이름'] = ''\n",
    "station_hgd['행정동'] = ''\n",
    "station_hgd.head()"
   ]
  },
  {
   "cell_type": "code",
   "execution_count": 59,
   "metadata": {},
   "outputs": [
    {
     "data": {
      "text/html": [
       "<div>\n",
       "<style scoped>\n",
       "    .dataframe tbody tr th:only-of-type {\n",
       "        vertical-align: middle;\n",
       "    }\n",
       "\n",
       "    .dataframe tbody tr th {\n",
       "        vertical-align: top;\n",
       "    }\n",
       "\n",
       "    .dataframe thead th {\n",
       "        text-align: right;\n",
       "    }\n",
       "</style>\n",
       "<table border=\"1\" class=\"dataframe\">\n",
       "  <thead>\n",
       "    <tr style=\"text-align: right;\">\n",
       "      <th></th>\n",
       "      <th>정류장_ID</th>\n",
       "      <th>위도</th>\n",
       "      <th>경도</th>\n",
       "      <th>버스도착정보안내기_설치_여부</th>\n",
       "      <th>구이름</th>\n",
       "      <th>행정동</th>\n",
       "    </tr>\n",
       "  </thead>\n",
       "  <tbody>\n",
       "    <tr>\n",
       "      <th>70827</th>\n",
       "      <td>100000005</td>\n",
       "      <td>127.001744</td>\n",
       "      <td>37.586243</td>\n",
       "      <td>설치</td>\n",
       "      <td>종로구</td>\n",
       "      <td>혜화동</td>\n",
       "    </tr>\n",
       "    <tr>\n",
       "      <th>70828</th>\n",
       "      <td>100000004</td>\n",
       "      <td>126.987613</td>\n",
       "      <td>37.568579</td>\n",
       "      <td>설치</td>\n",
       "      <td>종로구</td>\n",
       "      <td>종로1.2.3.4가동</td>\n",
       "    </tr>\n",
       "    <tr>\n",
       "      <th>70829</th>\n",
       "      <td>100000003</td>\n",
       "      <td>126.998340</td>\n",
       "      <td>37.582671</td>\n",
       "      <td>설치</td>\n",
       "      <td>종로구</td>\n",
       "      <td>혜화동</td>\n",
       "    </tr>\n",
       "    <tr>\n",
       "      <th>70830</th>\n",
       "      <td>100000002</td>\n",
       "      <td>126.996566</td>\n",
       "      <td>37.579183</td>\n",
       "      <td>설치</td>\n",
       "      <td>종로구</td>\n",
       "      <td>종로1.2.3.4가동</td>\n",
       "    </tr>\n",
       "    <tr>\n",
       "      <th>70831</th>\n",
       "      <td>100000001</td>\n",
       "      <td>126.987750</td>\n",
       "      <td>37.569765</td>\n",
       "      <td>설치</td>\n",
       "      <td>종로구</td>\n",
       "      <td>종로1.2.3.4가동</td>\n",
       "    </tr>\n",
       "  </tbody>\n",
       "</table>\n",
       "</div>"
      ],
      "text/plain": [
       "          정류장_ID          위도         경도 버스도착정보안내기_설치_여부  구이름          행정동\n",
       "70827  100000005  127.001744  37.586243           설치     종로구          혜화동\n",
       "70828  100000004  126.987613  37.568579           설치     종로구  종로1.2.3.4가동\n",
       "70829  100000003  126.998340  37.582671           설치     종로구          혜화동\n",
       "70830  100000002  126.996566  37.579183           설치     종로구  종로1.2.3.4가동\n",
       "70831  100000001  126.987750  37.569765           설치     종로구  종로1.2.3.4가동"
      ]
     },
     "execution_count": 59,
     "metadata": {},
     "output_type": "execute_result"
    }
   ],
   "source": [
    "# 함수 실행 및 데이터 저장\n",
    "\n",
    "for i in range(len(station_hgd)):\n",
    "    if station_hgd.loc[i, '구이름'] != \"\":\n",
    "        continue\n",
    "    latitude = station_hgd.loc[i, '위도']\n",
    "    longitude = station_hgd.loc[i, '경도']\n",
    "    \n",
    "    result = get_hgd(latitude, longitude)\n",
    "    \n",
    "    station_hgd.loc[i, '구이름'], station_hgd.loc[i, '행정동'] = result\n",
    "\n",
    "station_hgd.tail()"
   ]
  },
  {
   "cell_type": "code",
   "execution_count": 60,
   "metadata": {},
   "outputs": [],
   "source": [
    "# 서울시 전체 데이터 저장\n",
    "station_hgd.to_csv('./data/seoul_bus_station_hgd.csv', sep=',')"
   ]
  },
  {
   "attachments": {},
   "cell_type": "markdown",
   "metadata": {},
   "source": [
    "## 광진구만 추출"
   ]
  },
  {
   "cell_type": "code",
   "execution_count": 66,
   "metadata": {},
   "outputs": [
    {
     "data": {
      "text/html": [
       "<div>\n",
       "<style scoped>\n",
       "    .dataframe tbody tr th:only-of-type {\n",
       "        vertical-align: middle;\n",
       "    }\n",
       "\n",
       "    .dataframe tbody tr th {\n",
       "        vertical-align: top;\n",
       "    }\n",
       "\n",
       "    .dataframe thead th {\n",
       "        text-align: right;\n",
       "    }\n",
       "</style>\n",
       "<table border=\"1\" class=\"dataframe\">\n",
       "  <thead>\n",
       "    <tr style=\"text-align: right;\">\n",
       "      <th></th>\n",
       "      <th>정류장_ID</th>\n",
       "      <th>위도</th>\n",
       "      <th>경도</th>\n",
       "      <th>버스도착정보안내기_설치_여부</th>\n",
       "      <th>구이름</th>\n",
       "      <th>행정동</th>\n",
       "    </tr>\n",
       "  </thead>\n",
       "  <tbody>\n",
       "    <tr>\n",
       "      <th>1752</th>\n",
       "      <td>277103552</td>\n",
       "      <td>127.067091</td>\n",
       "      <td>37.531727</td>\n",
       "      <td>미설치</td>\n",
       "      <td>광진구</td>\n",
       "      <td>자양3동</td>\n",
       "    </tr>\n",
       "    <tr>\n",
       "      <th>1753</th>\n",
       "      <td>277103551</td>\n",
       "      <td>127.066757</td>\n",
       "      <td>37.531816</td>\n",
       "      <td>미설치</td>\n",
       "      <td>광진구</td>\n",
       "      <td>자양4동</td>\n",
       "    </tr>\n",
       "    <tr>\n",
       "      <th>1793</th>\n",
       "      <td>277103511</td>\n",
       "      <td>127.059683</td>\n",
       "      <td>37.533713</td>\n",
       "      <td>미설치</td>\n",
       "      <td>광진구</td>\n",
       "      <td>자양4동</td>\n",
       "    </tr>\n",
       "    <tr>\n",
       "      <th>1794</th>\n",
       "      <td>277103510</td>\n",
       "      <td>127.088280</td>\n",
       "      <td>37.528064</td>\n",
       "      <td>미설치</td>\n",
       "      <td>광진구</td>\n",
       "      <td>자양2동</td>\n",
       "    </tr>\n",
       "    <tr>\n",
       "      <th>1795</th>\n",
       "      <td>277103509</td>\n",
       "      <td>127.088549</td>\n",
       "      <td>37.528812</td>\n",
       "      <td>미설치</td>\n",
       "      <td>광진구</td>\n",
       "      <td>자양2동</td>\n",
       "    </tr>\n",
       "  </tbody>\n",
       "</table>\n",
       "</div>"
      ],
      "text/plain": [
       "         정류장_ID          위도         경도 버스도착정보안내기_설치_여부  구이름   행정동\n",
       "1752  277103552  127.067091  37.531727           미설치    광진구  자양3동\n",
       "1753  277103551  127.066757  37.531816           미설치    광진구  자양4동\n",
       "1793  277103511  127.059683  37.533713           미설치    광진구  자양4동\n",
       "1794  277103510  127.088280  37.528064           미설치    광진구  자양2동\n",
       "1795  277103509  127.088549  37.528812           미설치    광진구  자양2동"
      ]
     },
     "execution_count": 66,
     "metadata": {},
     "output_type": "execute_result"
    }
   ],
   "source": [
    "station_gwangjin = station_hgd.loc[station_hgd['구이름'] == '광진구']\n",
    "station_gwangjin = station_gwangjin.rename(columns={\"정류장_ID\":\"표준버스정류장ID\"})\n",
    "station_gwangjin.head()"
   ]
  },
  {
   "cell_type": "code",
   "execution_count": 67,
   "metadata": {},
   "outputs": [],
   "source": [
    "station_gwangjin.to_csv('./data/gwangjin_bus_station.csv', index=False)"
   ]
  }
 ],
 "metadata": {
  "kernelspec": {
   "display_name": "aivle",
   "language": "python",
   "name": "python3"
  },
  "language_info": {
   "codemirror_mode": {
    "name": "ipython",
    "version": 3
   },
   "file_extension": ".py",
   "mimetype": "text/x-python",
   "name": "python",
   "nbconvert_exporter": "python",
   "pygments_lexer": "ipython3",
   "version": "3.9.13"
  },
  "orig_nbformat": 4
 },
 "nbformat": 4,
 "nbformat_minor": 2
}

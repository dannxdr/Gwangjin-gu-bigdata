{
 "cells": [
  {
   "attachments": {},
   "cell_type": "markdown",
   "metadata": {},
   "source": [
    "- 입력 : 2023년 2월 광진구 버스 정류장을 지나는 버스 일별 데이터\n",
    "- 출력 : 각 버스 정류장별 환승 가능한 노선 수"
   ]
  },
  {
   "cell_type": "code",
   "execution_count": 8,
   "metadata": {},
   "outputs": [],
   "source": [
    "import requests\n",
    "import pandas as pd\n",
    "import numpy as np\n",
    "import matplotlib.pyplot as plt\n",
    "import seaborn as sns"
   ]
  },
  {
   "cell_type": "code",
   "execution_count": 9,
   "metadata": {},
   "outputs": [],
   "source": [
    "data = pd.read_csv('./data/BUS_STATION_BOARDING_MONTH_202302.csv', encoding='cp949')\n",
    "processed = pd.read_csv('./data/gwangjin_bus_station.csv')"
   ]
  },
  {
   "cell_type": "code",
   "execution_count": null,
   "metadata": {},
   "outputs": [],
   "source": [
    "# 일별 데이터이므로 하루만 남기고 중복 제거\n",
    "data = data.drop_duplicates(subset=['사용일자'])"
   ]
  },
  {
   "cell_type": "code",
   "execution_count": 44,
   "metadata": {},
   "outputs": [],
   "source": [
    "# 기존 광진구 버스 정류장 데이터와 병합\n",
    "df_merged = processed.merge(data, how='inner', left_on='정류장_ID', right_on='표준버스정류장ID')\n",
    "df_merged = df_merged.loc[(df_merged['사용일자'] == 20230221)]"
   ]
  },
  {
   "cell_type": "code",
   "execution_count": 46,
   "metadata": {},
   "outputs": [
    {
     "data": {
      "text/html": [
       "<div>\n",
       "<style scoped>\n",
       "    .dataframe tbody tr th:only-of-type {\n",
       "        vertical-align: middle;\n",
       "    }\n",
       "\n",
       "    .dataframe tbody tr th {\n",
       "        vertical-align: top;\n",
       "    }\n",
       "\n",
       "    .dataframe thead th {\n",
       "        text-align: right;\n",
       "    }\n",
       "</style>\n",
       "<table border=\"1\" class=\"dataframe\">\n",
       "  <thead>\n",
       "    <tr style=\"text-align: right;\">\n",
       "      <th></th>\n",
       "      <th>정류장_ID</th>\n",
       "      <th>위도</th>\n",
       "      <th>경도</th>\n",
       "      <th>버스도착정보안내기_설치_여부</th>\n",
       "      <th>구이름</th>\n",
       "      <th>행정동</th>\n",
       "      <th>사용일자</th>\n",
       "      <th>노선번호</th>\n",
       "      <th>노선명</th>\n",
       "      <th>표준버스정류장ID</th>\n",
       "      <th>버스정류장ARS번호</th>\n",
       "      <th>역명</th>\n",
       "      <th>승차총승객수</th>\n",
       "      <th>하차총승객수</th>\n",
       "      <th>등록일자</th>\n",
       "      <th>노선수</th>\n",
       "    </tr>\n",
       "  </thead>\n",
       "  <tbody>\n",
       "    <tr>\n",
       "      <th>60</th>\n",
       "      <td>104900133</td>\n",
       "      <td>127.091538</td>\n",
       "      <td>37.538166</td>\n",
       "      <td>미설치</td>\n",
       "      <td>광진구</td>\n",
       "      <td>구의3동</td>\n",
       "      <td>20230221</td>\n",
       "      <td>광진03</td>\n",
       "      <td>광진03(중곡119안전센터~강변역)</td>\n",
       "      <td>104900133</td>\n",
       "      <td>05757</td>\n",
       "      <td>구의3동주민센터(00022)</td>\n",
       "      <td>47</td>\n",
       "      <td>9</td>\n",
       "      <td>20230224</td>\n",
       "      <td>1</td>\n",
       "    </tr>\n",
       "    <tr>\n",
       "      <th>61</th>\n",
       "      <td>104900133</td>\n",
       "      <td>127.091538</td>\n",
       "      <td>37.538166</td>\n",
       "      <td>미설치</td>\n",
       "      <td>광진구</td>\n",
       "      <td>구의3동</td>\n",
       "      <td>20230221</td>\n",
       "      <td>광진04</td>\n",
       "      <td>광진04(중곡아파트~강변역)</td>\n",
       "      <td>104900133</td>\n",
       "      <td>05757</td>\n",
       "      <td>구의3동주민센터(00023)</td>\n",
       "      <td>26</td>\n",
       "      <td>7</td>\n",
       "      <td>20230224</td>\n",
       "      <td>1</td>\n",
       "    </tr>\n",
       "  </tbody>\n",
       "</table>\n",
       "</div>"
      ],
      "text/plain": [
       "       정류장_ID          위도         경도 버스도착정보안내기_설치_여부  구이름   행정동      사용일자  \\\n",
       "60  104900133  127.091538  37.538166           미설치    광진구  구의3동  20230221   \n",
       "61  104900133  127.091538  37.538166           미설치    광진구  구의3동  20230221   \n",
       "\n",
       "    노선번호                  노선명  표준버스정류장ID 버스정류장ARS번호               역명  승차총승객수  \\\n",
       "60  광진03  광진03(중곡119안전센터~강변역)  104900133      05757  구의3동주민센터(00022)      47   \n",
       "61  광진04      광진04(중곡아파트~강변역)  104900133      05757  구의3동주민센터(00023)      26   \n",
       "\n",
       "    하차총승객수      등록일자  노선수  \n",
       "60       9  20230224    1  \n",
       "61       7  20230224    1  "
      ]
     },
     "execution_count": 46,
     "metadata": {},
     "output_type": "execute_result"
    }
   ],
   "source": [
    "# 한 정류장을 지나는 여러 버스의 합계를 구함\n",
    "df_merged['노선수'] = 1\n",
    "df_merged = df_merged.groupby(by='정류장_ID').sum()\n",
    "\n",
    "# 정류장 ID와 노선수만 집계\n",
    "df_merged = df_merged[['정류장_ID', '노선수']]\n",
    "\n",
    "# 환승 가능한 노선수이므로 전체 노선에서 1을 뺌\n",
    "df_merged['노선수'] = df_merged['노선수'] - 1"
   ]
  },
  {
   "cell_type": "code",
   "execution_count": 56,
   "metadata": {},
   "outputs": [
    {
     "data": {
      "text/html": [
       "<div>\n",
       "<style scoped>\n",
       "    .dataframe tbody tr th:only-of-type {\n",
       "        vertical-align: middle;\n",
       "    }\n",
       "\n",
       "    .dataframe tbody tr th {\n",
       "        vertical-align: top;\n",
       "    }\n",
       "\n",
       "    .dataframe thead th {\n",
       "        text-align: right;\n",
       "    }\n",
       "</style>\n",
       "<table border=\"1\" class=\"dataframe\">\n",
       "  <thead>\n",
       "    <tr style=\"text-align: right;\">\n",
       "      <th></th>\n",
       "      <th>정류장_ID</th>\n",
       "      <th>노선수</th>\n",
       "    </tr>\n",
       "  </thead>\n",
       "  <tbody>\n",
       "    <tr>\n",
       "      <th>0</th>\n",
       "      <td>101000252</td>\n",
       "      <td>3</td>\n",
       "    </tr>\n",
       "    <tr>\n",
       "      <th>1</th>\n",
       "      <td>104000001</td>\n",
       "      <td>7</td>\n",
       "    </tr>\n",
       "  </tbody>\n",
       "</table>\n",
       "</div>"
      ],
      "text/plain": [
       "      정류장_ID  노선수\n",
       "0  101000252    3\n",
       "1  104000001    7"
      ]
     },
     "execution_count": 56,
     "metadata": {},
     "output_type": "execute_result"
    }
   ],
   "source": [
    "df_merged.head(2)"
   ]
  },
  {
   "cell_type": "code",
   "execution_count": 58,
   "metadata": {},
   "outputs": [],
   "source": [
    "# 컬럼명 조절\n",
    "df_merged.columns = ['정류장_ID', '환승가능노선수']"
   ]
  },
  {
   "cell_type": "code",
   "execution_count": 59,
   "metadata": {},
   "outputs": [],
   "source": [
    "df_merged.to_csv('./data/gwangjin_bus_count.csv', encoding='utf-8', index=False)"
   ]
  }
 ],
 "metadata": {
  "kernelspec": {
   "display_name": "aivle",
   "language": "python",
   "name": "python3"
  },
  "language_info": {
   "codemirror_mode": {
    "name": "ipython",
    "version": 3
   },
   "file_extension": ".py",
   "mimetype": "text/x-python",
   "name": "python",
   "nbconvert_exporter": "python",
   "pygments_lexer": "ipython3",
   "version": "3.9.13"
  },
  "orig_nbformat": 4
 },
 "nbformat": 4,
 "nbformat_minor": 2
}
